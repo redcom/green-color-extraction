{
 "cells": [
  {
   "cell_type": "code",
   "execution_count": 1,
   "metadata": {},
   "outputs": [],
   "source": [
    "%matplotlib inline\n",
    "import cv2\n",
    "from skimage import io\n",
    "import matplotlib.pyplot as plt \n",
    "import os\n",
    "from PIL import Image\n",
    "import numpy as np\n",
    "\n",
    "\n",
    "filenames = []\n",
    "def load_images_from_folder(folder):\n",
    "    images = []\n",
    "    index = 0\n",
    "    for filename in os.listdir(folder):\n",
    "        print(index, filename)\n",
    "        index+=1\n",
    "        filenames.append(filename)\n",
    "        img = cv2.imread(os.path.join(folder,filename))\n",
    "        if img is not None:\n",
    "            img\n",
    "        images.append(img)\n",
    "\n",
    "    return images\n",
    "# def process_image﴾img﴿:\n",
    "plt.ion() # interactive mode\n",
    "filenames.sort()"
   ]
  },
  {
   "cell_type": "code",
   "execution_count": 3,
   "metadata": {},
   "outputs": [
    {
     "name": "stdout",
     "output_type": "stream",
     "text": [
      "0 img9.jpg\n",
      "1 img8.jpg\n",
      "2 img5.jpg\n",
      "3 img4.jpg\n",
      "4 img6.jpg\n",
      "5 img7.jpg\n",
      "6 img3.jpg\n",
      "7 img2.jpg\n",
      "8 img1.jpg\n",
      "9 img10.jpg\n"
     ]
    }
   ],
   "source": [
    "path = './imgs'\n",
    "imgs = load_images_from_folder(path)\n"
   ]
  },
  {
   "cell_type": "code",
   "execution_count": 5,
   "metadata": {},
   "outputs": [
    {
     "name": "stdout",
     "output_type": "stream",
     "text": [
      "img9.jpg , 0.9714616929529211\n",
      "img8.jpg , 0.67189849533847\n",
      "img5.jpg , 0.5983945562679338\n",
      "img4.jpg , 0.2607620931672083\n",
      "img6.jpg , 0.05096357119236584\n",
      "img7.jpg , 0.026001269719455954\n",
      "img3.jpg , 0.0866324863177735\n",
      "img2.jpg , 0.06929631551634666\n",
      "img1.jpg , 0.035988546653229196\n",
      "img10.jpg , 0.6249723031252753\n"
     ]
    }
   ],
   "source": [
    "def getOutputRGBOfPixel(h,s,v):\n",
    "    r, g, b = 255, 255, 255\n",
    "    if h < 54 or h > 90:\n",
    "        r, g, b = 0, 0, 0\n",
    "    if h < 84 and s > 3.5 and v > 70:\n",
    "        r, g, b = 0, 0, 0\n",
    "        \n",
    "    return r,g,b\n",
    "\n",
    "def getHSVOfPixel(hsvImage, row, col):\n",
    "    pixelHSV = hsvImage.getpixel((row, col))\n",
    "    h, s, v = pixelHSV\n",
    "    s /= 255.0\n",
    "    s *= 100.0\n",
    "    s = round(s, 2)\n",
    "    v /= 255.0\n",
    "    v *= 100.0\n",
    "    v = round(v, 2)\n",
    "\n",
    "    return h,s,v\n",
    "\n",
    "def __getGreenIndex__(image):\n",
    "    width, height = image.size\n",
    "    width += 0.0\n",
    "    height += 0.0\n",
    "    histogram = np.array(image.histogram())\n",
    "\n",
    "    greenIndex = histogram[256:512][255]\n",
    "    greenIndex /= width*height\n",
    "    \n",
    "    return greenIndex\n",
    "\n",
    "def calculateG(img,originalFile):\n",
    "    \n",
    "    img_orig=cv2.cvtColor(img, cv2.COLOR_BGR2RGB)\n",
    "#     plt.figure()\n",
    "#     plt.plot(), plt.imshow(img_orig)\n",
    "\n",
    "    originalRGBImage = Image.open(path + '/'+ originalFile)\n",
    "    \n",
    "    width, height = originalRGBImage.size[0], originalRGBImage.size[1]\n",
    "    \n",
    "    pixelCount = width * height\n",
    "    hsvImage = originalRGBImage.convert('HSV')\n",
    "\n",
    "    for row in range(width):\n",
    "        for col in range(height):\n",
    "            h,s,v = getHSVOfPixel(hsvImage, row, col)\n",
    "            r,g,b = getOutputRGBOfPixel(h,s,v)\n",
    "            originalRGBImage.putpixel((row,col), (r,g,b))\n",
    "    \n",
    "   \n",
    "    greenIndex = __getGreenIndex__(originalRGBImage)\n",
    "    print(originalFile, ',' , greenIndex)\n",
    "#     plt.show()\n",
    "\n",
    "for idx in range(len(imgs)):\n",
    "    img = imgs[idx]\n",
    "    calculateG(img, filenames[idx])"
   ]
  },
  {
   "cell_type": "code",
   "execution_count": 6,
   "metadata": {},
   "outputs": [
    {
     "name": "stdout",
     "output_type": "stream",
     "text": [
      "img9.jpg 0.5123103959497182\n",
      "img8.jpg 0.4571133220546739\n",
      "img5.jpg 0.501198745783614\n",
      "img4.jpg 0.35406894951794843\n",
      "img6.jpg 0.33147488071066306\n",
      "img7.jpg 0.3679984404519158\n",
      "img3.jpg 0.3496781350828514\n",
      "img2.jpg 0.3473593646684944\n",
      "img1.jpg 0.34197218104768196\n",
      "img10.jpg 0.45336994372458567\n"
     ]
    }
   ],
   "source": [
    "\n",
    "def CalculateGreenIndex1(idx, imageArray):\n",
    "\n",
    "    #Greenness index: G / (R + G + B)\n",
    "    r = imageArray[:,:,0].flatten()\n",
    "    g = imageArray[:,:,1].flatten()\n",
    "    b = imageArray[:,:,2].flatten()\n",
    "    \n",
    "    print(filenames[idx], sum(g) / ( sum(r) + sum(g) + sum(b)))\n",
    "\n",
    "for idx in range(0, len(imgs)):\n",
    "    img = imgs[idx]\n",
    "    CalculateGreenIndex1(idx, img)"
   ]
  },
  {
   "cell_type": "code",
   "execution_count": 10,
   "metadata": {},
   "outputs": [
    {
     "data": {
      "image/png": "[encoded data removed]",
      "text/plain": [
       "<Figure size 432x288 with 1 Axes>"
      ]
     },
     "metadata": {
      "needs_background": "light"
     },
     "output_type": "display_data"
    },
    {
     "name": "stdout",
     "output_type": "stream",
     "text": [
      "0.0 img9.jpg\n"
     ]
    },
    {
     "data": {
      "image/png": "[encoded data removed]",
      "text/plain": [
       "<Figure size 432x288 with 1 Axes>"
      ]
     },
     "metadata": {
      "needs_background": "light"
     },
     "output_type": "display_data"
    },
    {
     "name": "stdout",
     "output_type": "stream",
     "text": [
      "0.011226340969768274 img8.jpg\n"
     ]
    },
    {
     "data": {
      "image/png": "[encoded data removed]",
      "text/plain": [
       "<Figure size 432x288 with 1 Axes>"
      ]
     },
     "metadata": {
      "needs_background": "light"
     },
     "output_type": "display_data"
    },
    {
     "name": "stdout",
     "output_type": "stream",
     "text": [
      "0.0 img5.jpg\n"
     ]
    },
    {
     "data": {
      "image/png": "[encoded data removed]",
      "text/plain": [
       "<Figure size 432x288 with 1 Axes>"
      ]
     },
     "metadata": {
      "needs_background": "light"
     },
     "output_type": "display_data"
    },
    {
     "name": "stdout",
     "output_type": "stream",
     "text": [
      "0.002846114311500199 img4.jpg\n"
     ]
    },
    {
     "data": {
      "image/png": "[encoded data removed]",
      "text/plain": [
       "<Figure size 432x288 with 1 Axes>"
      ]
     },
     "metadata": {
      "needs_background": "light"
     },
     "output_type": "display_data"
    },
    {
     "name": "stdout",
     "output_type": "stream",
     "text": [
      "0.015100016665616865 img6.jpg\n"
     ]
    },
    {
     "data": {
      "image/png": "[encoded data removed]",
      "text/plain": [
       "<Figure size 432x288 with 1 Axes>"
      ]
     },
     "metadata": {
      "needs_background": "light"
     },
     "output_type": "display_data"
    },
    {
     "name": "stdout",
     "output_type": "stream",
     "text": [
      "0.0 img7.jpg\n"
     ]
    },
    {
     "data": {
      "image/png": "[encoded data removed]",
      "text/plain": [
       "<Figure size 432x288 with 1 Axes>"
      ]
     },
     "metadata": {
      "needs_background": "light"
     },
     "output_type": "display_data"
    },
    {
     "name": "stdout",
     "output_type": "stream",
     "text": [
      "0.01121899343771885 img3.jpg\n"
     ]
    },
    {
     "data": {
      "image/png": "[encoded data removed]",
      "text/plain": [
       "<Figure size 432x288 with 1 Axes>"
      ]
     },
     "metadata": {
      "needs_background": "light"
     },
     "output_type": "display_data"
    },
    {
     "name": "stdout",
     "output_type": "stream",
     "text": [
      "0.009039439543331603 img2.jpg\n"
     ]
    },
    {
     "data": {
      "image/png": "[encoded data removed]",
      "text/plain": [
       "<Figure size 432x288 with 1 Axes>"
      ]
     },
     "metadata": {
      "needs_background": "light"
     },
     "output_type": "display_data"
    },
    {
     "name": "stdout",
     "output_type": "stream",
     "text": [
      "0.011423328976652389 img1.jpg\n"
     ]
    },
    {
     "data": {
      "image/png": "[encoded data removed]",
      "text/plain": [
       "<Figure size 432x288 with 1 Axes>"
      ]
     },
     "metadata": {
      "needs_background": "light"
     },
     "output_type": "display_data"
    },
    {
     "name": "stdout",
     "output_type": "stream",
     "text": [
      "0.0026455520821375847 img10.jpg\n"
     ]
    }
   ],
   "source": [
    "def calculateGreenWithCV2(img, filename):\n",
    "    \n",
    "    hsv = cv2.cvtColor(img, cv2.COLOR_BGR2HSV)\n",
    "    \n",
    "    #hsv = hue saturation value\n",
    "    lower_green = np.array([45,80,100])\n",
    "    upper_green = np.array([70,255,255])\n",
    "    \n",
    "    mask = cv2.inRange(hsv, lower_green, upper_green)\n",
    "    res = cv2.bitwise_and(img, img, mask=mask)\n",
    "    \n",
    "    kernel = np.ones((15,15), np.float32)/225\n",
    "    smoothed = cv2.filter2D(res, -1, kernel)\n",
    "    blur = cv2.GaussianBlur(res, (15, 15), 0)\n",
    "    kernelErrosion = np.ones((5,5), np.uint8)\n",
    "    dilation = cv2.dilate(mask, kernelErrosion, iterations = 1)\n",
    "\n",
    "    plt.plot(),plt.imshow(dilation),plt.xlabel(filenames[idx])\n",
    "    plt.xlabel('res')\n",
    "    plt.show()\n",
    "    greenCount = np.count_nonzero(res)\n",
    "    total = img.size\n",
    "    print(greenCount/total, filename)\n",
    "\n",
    "for idx in range(0, len(imgs)):\n",
    "    img = imgs[idx]\n",
    "    calculateGreenWithCV2(img, filenames[idx])"
   ]
  },
  {
   "cell_type": "code",
   "execution_count": null,
   "metadata": {},
   "outputs": [],
   "source": [
    "def edgeDetection(img, idx):\n",
    "    #split the image into blue, green, and red channels\n",
    "    b,g,r = cv2.split(img) \n",
    "    #here we 'amplify' the color green to stand out, without red/blue\n",
    "    gscale = 2*g-r-b #we are going to refer to this as our grayscale img\n",
    "    #Canny edge detection \n",
    "    gscale = cv2.Canny(gscale,280,290,apertureSize = 3)\n",
    "    #checking the results (good practice)\n",
    "    plt.figure()\n",
    "    plt.plot(), plt.imshow(img)\n",
    "    plt.figure()\n",
    "    plt.plot(), plt.imshow(gscale)\n",
    "    plt.title('Canny Edge-Detection Results')\n",
    "    plt.xticks([]), plt.yticks([])\n",
    "    plt.xlabel(filenames[idx])\n",
    "    plt.show()\n",
    "    filenames[idx]\n",
    "    size = np.size(gscale) #returns the product of the array dimensions\n",
    "    skel = np.zeros(gscale.shape,np.uint8) #array of zeros\n",
    "    ret,gscale = cv2.threshold(gscale,128,255,0) #thresholding the image\n",
    "    element = cv2.getStructuringElement(cv2.MORPH_CROSS,(3,3))\n",
    "    done = False\n",
    "\n",
    "\n",
    "    while(not done):\n",
    "        eroded = cv2.erode(gscale,element)\n",
    "#         print(eroded)\n",
    "        temp = cv2.dilate(eroded,element)\n",
    "#         print(temp)\n",
    "        temp = cv2.subtract(gscale,temp)\n",
    "        skel = cv2.bitwise_or(skel,temp)\n",
    "        gscale = eroded.copy()\n",
    "\n",
    "    zeros = size - cv2.countNonZero(gscale)\n",
    "\n",
    "    if zeros == size:\n",
    "        done = True\n",
    "    lines = cv2.HoughLines(skel,1,np.pi/180,130)\n",
    "\n",
    "    a,b,c = lines.shape\n",
    "\n",
    "    for i in range(a):\n",
    "        rho = lines[i][0][0]\n",
    "        theta = lines[i][0][1]    \n",
    "        a = np.cos(theta)\n",
    "        b = np.sin(theta)\n",
    "        x0 = a*rho\n",
    "        y0 = b*rho\n",
    "        x1 = int(x0 + 1000*(-b))\n",
    "        y1 = int(y0 + 1000*(a))\n",
    "        x2 = int(x0 - 1000*(-b))\n",
    "        y2 = int(y0 - 1000*(a))\n",
    "\n",
    "        cv2.line(img,(x1,y1),(x2,y2),(0,0,255),2, cv2.LINE_AA)\n",
    "\n",
    "    #showing the results:\n",
    "    plt.subplot(121)\n",
    "    #OpenCV reads images as BGR, this corrects so it is displayed as RGB\n",
    "    plt.plot(),plt.imshow(cv2.cvtColor(img, cv2.COLOR_BGR2RGB)) \n",
    "    plt.title('Row Detection'), plt.xticks([]), plt.yticks([])\n",
    "    plt.subplot(122)\n",
    "    plt.plot(),plt.imshow(skel,cmap='gray')\n",
    "    plt.title('Skeletal Image'), plt.xticks([]), plt.yticks([])\n",
    "    plt.show()\n",
    "    \n",
    "for idx in range(0, len(imgs)):\n",
    "    img = imgs[idx]\n",
    "    edgeDetection(img, idx)"
   ]
  },
  {
   "cell_type": "code",
   "execution_count": null,
   "metadata": {},
   "outputs": [],
   "source": []
  }
 ],
 "metadata": {
  "kernelspec": {
   "display_name": "Python 3",
   "language": "python",
   "name": "python3"
  },
  "language_info": {
   "codemirror_mode": {
    "name": "ipython",
    "version": 3
   },
   "file_extension": ".py",
   "mimetype": "text/x-python",
   "name": "python",
   "nbconvert_exporter": "python",
   "pygments_lexer": "ipython3",
   "version": "3.7.0"
  }
 },
 "nbformat": 4,
 "nbformat_minor": 1
}
